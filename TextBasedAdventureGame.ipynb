{
 "cells": [
  {
   "cell_type": "code",
   "execution_count": 7,
   "metadata": {},
   "outputs": [],
   "source": [
    "import time\n",
    "time.sleep(2)"
   ]
  },
  {
   "cell_type": "code",
   "execution_count": 11,
   "metadata": {},
   "outputs": [
    {
     "name": "stdout",
     "output_type": "stream",
     "text": [
      "Welcome to the Adventure Games Audrey!\n",
      "Do you wanna play a game?\n",
      "Amazing, Let's get started.\n",
      "\n",
      "As an explorer, you have always loved Egypt. It's where your Great-grand Father discovered the remains of the ancient Pharaoh, Tutankhamen.\n",
      "While walking besides the River Nile, you and your companions suddenly feel the ground shift beneath you, sending you all tumbling down a dank, stony shaft.\n",
      "When your eyes adjust to the darkness, you find yourselves trapped deep beneath the earth in an ancient, undiscovered tomb.\n",
      "\n",
      "You will have to find your way out fast!\n",
      "Otherwise, this tomb will have a fresh set of residents!\n",
      "\n",
      "Are you able to escape?\n",
      "\n",
      "There is a passage right ahead of you\n",
      "There is a wall behind you\n",
      "There is an unopened coffin to your left\n",
      "You hear a faint noise like a waterfall to your right\n",
      "What direction will you take?\n",
      "\n",
      "You just entered an empty hall\n",
      "The Hall is rigged with traps, you have been trapped\n"
     ]
    }
   ],
   "source": [
    "yes_no = ['Yes', 'yes', 'Y', 'y', 'YES', 'No', 'no', 'NO', 'N', 'n']\n",
    "directions = ['left', 'right', 'forward', 'backward']\n",
    "time\n",
    "\n",
    "\n",
    "def greet_user():\n",
    "    name = input(\"What's your name explorer?\")\n",
    "    print('Welcome to the Adventure Games', '' + name + '!' )\n",
    "greet_user()\n",
    "\n",
    "#Start game\n",
    "start_game =''\n",
    "while start_game not in yes_no:\n",
    "    print('Do you wanna play a game?')\n",
    "    start_game = input(\"Would you like to play a game?\\n yes/no\\n?\").lower()\n",
    "if start_game == 'yes':\n",
    "    print(\"\"\"Amazing, Let's get started.\\n\"\"\")\n",
    "    time.sleep(2)\n",
    "    print(\"As an explorer, you have always loved Egypt. It's where your Great-grand Father discovered the remains of the ancient Pharaoh, Tutankhamen.\")\n",
    "    print(\"While walking besides the River Nile, you and your companions suddenly feel the ground shift beneath you, sending you all tumbling down a dank, stony shaft.\")\n",
    "    print(\"When your eyes adjust to the darkness, you find yourselves trapped deep beneath the earth in an ancient, undiscovered tomb.\\n\")\n",
    "    print(\"You will have to find your way out fast!\")\n",
    "    print(\"Otherwise, this tomb will have a fresh set of residents!\\n\")\n",
    "    print(\"Are you able to escape?\\n\")\n",
    "elif start_game == 'no':\n",
    "    print('Ok, maybe we can play next time when you are ready.\\n')\n",
    "else:\n",
    "    print('I dont understand that\\n.')\n",
    "\n",
    "#Escape tomb\n",
    "response =''\n",
    "while response not in directions:\n",
    "    print('There is a passage right ahead of you')\n",
    "    print('There is a wall behind you')\n",
    "    print('There is an unopened coffin to your left')\n",
    "    print('You hear a faint noise like a waterfall to your right')\n",
    "    print('What direction will you take?\\n')\n",
    "    response = input('What direction will you take?')\n",
    "if response == 'forward':\n",
    "    print('You just entered an empty hall')\n",
    "    print('The Hall is rigged with traps, you have been trapped')\n",
    "elif response == 'backward':\n",
    "    print('You hit a wall')\n",
    "    print('You cant use this direction, choose another way')\n",
    "elif response == 'left':\n",
    "    print('You have just knocked off the coffin and released The Mummy.')\n",
    "    print('Oh no! you have woken up the mummy, run!!!!')\n",
    "elif response == 'right':\n",
    "    print('Oh no! you have fallen into the waterfall')\n",
    "    print('You fell into the crocodile pool, tough luck, you die!!!')\n",
    "else:\n",
    "    print('I am sorry I dont understand that, try again')\n",
    "\n"
   ]
  }
 ],
 "metadata": {
  "interpreter": {
   "hash": "7e1998ff7f8aa20ada591c520b972326324e5ea05489af9e422744c7c09f6dad"
  },
  "kernelspec": {
   "display_name": "Python 3.10.1 64-bit",
   "language": "python",
   "name": "python3"
  },
  "language_info": {
   "codemirror_mode": {
    "name": "ipython",
    "version": 3
   },
   "file_extension": ".py",
   "mimetype": "text/x-python",
   "name": "python",
   "nbconvert_exporter": "python",
   "pygments_lexer": "ipython3",
   "version": "3.10.1"
  },
  "orig_nbformat": 4
 },
 "nbformat": 4,
 "nbformat_minor": 2
}
