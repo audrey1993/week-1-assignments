{
 "cells": [
  {
   "cell_type": "code",
   "execution_count": 2,
   "metadata": {},
   "outputs": [
    {
     "name": "stdout",
     "output_type": "stream",
     "text": [
      "Number: 7\n",
      "Congratulations!!!! You Won!!!!\n"
     ]
    }
   ],
   "source": [
    "#import random number generator\n",
    "import random\n",
    "\n",
    "#start game prompt\n",
    "\n",
    "#set random number parameters\n",
    "num = random.randint(0, 10)\n",
    "#print random variable result\n",
    "print('Number:',num)\n",
    "#create variable for attempts\n",
    "attempt = 4 \n",
    "#output message\n",
    "msg = 'You Lost!'\n",
    "\n",
    "#process\n",
    "while attempt > 0:\n",
    "    user_input = int(input('Enter Number: '))\n",
    "\n",
    "    if user_input == num:\n",
    "        msg = 'Congratulations!!!! You Won!!!!'\n",
    "        break\n",
    "    else:\n",
    "        print(f'Sorry, Tough Luck!!! Try again! {attempt} attempt left.')\n",
    "        attempt -= 1\n",
    "        continue\n",
    "\n",
    "print(msg)"
   ]
  }
 ],
 "metadata": {
  "interpreter": {
   "hash": "7e1998ff7f8aa20ada591c520b972326324e5ea05489af9e422744c7c09f6dad"
  },
  "kernelspec": {
   "display_name": "Python 3.10.1 64-bit",
   "language": "python",
   "name": "python3"
  },
  "language_info": {
   "codemirror_mode": {
    "name": "ipython",
    "version": 3
   },
   "file_extension": ".py",
   "mimetype": "text/x-python",
   "name": "python",
   "nbconvert_exporter": "python",
   "pygments_lexer": "ipython3",
   "version": "3.10.1"
  },
  "orig_nbformat": 4
 },
 "nbformat": 4,
 "nbformat_minor": 2
}
