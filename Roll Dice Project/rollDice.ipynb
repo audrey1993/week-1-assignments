{
 "cells": [
  {
   "cell_type": "code",
   "execution_count": 1,
   "metadata": {},
   "outputs": [
    {
     "name": "stdout",
     "output_type": "stream",
     "text": [
      "Rolling dice\n",
      "2\n",
      "1\n",
      "6\n",
      "1\n",
      "3\n",
      "5\n",
      "Your final score is: 18\n",
      "Hard luck, try again next time\n"
     ]
    }
   ],
   "source": [
    "#import random number generator dictionary\n",
    "import random \n",
    "score = 0\n",
    "count = 7\n",
    "\n",
    "#starting game prompt\n",
    "start_game = str(input('Do you want to roll dice?'))\n",
    "\n",
    "if start_game == str('yes'):\n",
    "    print(str('Rolling dice'))\n",
    "else:\n",
    "    print (str('Ok, Maybe we can play again next time when you are ready!!!\\n'))\n",
    "\n",
    "   \n",
    "#processing function \n",
    "def rolldice():\n",
    "    global score\n",
    "    number = random.randint(1,7)\n",
    "    score += number\n",
    "    return number\n",
    "\n",
    "for i in range(1,7):\n",
    "    print(rolldice())\n",
    "\n",
    "#print final score\n",
    "print('Your final score is:', score)\n",
    "\n",
    "#evaluate results\n",
    "if score >20:\n",
    "    print('Wow! Good Job!')\n",
    "else:\n",
    "    print('Hard luck, try again next time')\n"
   ]
  }
 ],
 "metadata": {
  "interpreter": {
   "hash": "7e1998ff7f8aa20ada591c520b972326324e5ea05489af9e422744c7c09f6dad"
  },
  "kernelspec": {
   "display_name": "Python 3.10.1 64-bit",
   "language": "python",
   "name": "python3"
  },
  "language_info": {
   "codemirror_mode": {
    "name": "ipython",
    "version": 3
   },
   "file_extension": ".py",
   "mimetype": "text/x-python",
   "name": "python",
   "nbconvert_exporter": "python",
   "pygments_lexer": "ipython3",
   "version": "3.10.1"
  },
  "orig_nbformat": 4
 },
 "nbformat": 4,
 "nbformat_minor": 2
}
