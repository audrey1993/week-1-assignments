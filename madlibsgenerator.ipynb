{
 "cells": [
  {
   "cell_type": "code",
   "execution_count": 9,
   "metadata": {},
   "outputs": [
    {
     "name": "stdout",
     "output_type": "stream",
     "text": [
      "My name is audrey.I am run to be part of The Developer Academy Data Science Bootcamp.This opportunity is hurt and means a lot to me\n"
     ]
    }
   ],
   "source": [
    "name1= str(input('enter a name'))\n",
    "verb1 = str(input('enter an action'))\n",
    "adjective1 = str(input('enter a description'))\n",
    "adverb1 = str(input('enter a description'))\n",
    "conjunction1 = str(input('enter a joining word'))\n",
    "\n",
    "story = str('My name is ' + name1 + '.' + 'I am ' + verb1 + ' to be part of The Developer Academy Data Science Bootcamp.' 'This opportunity is' ' ' +  adjective1 +' ' + conjunction1 + ' means a lot to me')\n",
    "\n",
    "print(story)\n"
   ]
  }
 ],
 "metadata": {
  "interpreter": {
   "hash": "7e1998ff7f8aa20ada591c520b972326324e5ea05489af9e422744c7c09f6dad"
  },
  "kernelspec": {
   "display_name": "Python 3.10.1 64-bit",
   "language": "python",
   "name": "python3"
  },
  "language_info": {
   "codemirror_mode": {
    "name": "ipython",
    "version": 3
   },
   "file_extension": ".py",
   "mimetype": "text/x-python",
   "name": "python",
   "nbconvert_exporter": "python",
   "pygments_lexer": "ipython3",
   "version": "3.10.1"
  },
  "orig_nbformat": 4
 },
 "nbformat": 4,
 "nbformat_minor": 2
}
